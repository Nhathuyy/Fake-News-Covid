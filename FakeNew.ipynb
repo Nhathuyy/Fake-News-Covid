{
  "nbformat": 4,
  "nbformat_minor": 0,
  "metadata": {
    "colab": {
      "provenance": [],
      "collapsed_sections": [],
      "toc_visible": true,
      "mount_file_id": "1sWKC4qaKKTiyVv_vYCvFXbj30-uqzV48",
      "authorship_tag": "ABX9TyP8QuNl+kBSlhAWCz5rcmYA",
      "include_colab_link": true
    },
    "kernelspec": {
      "name": "python3",
      "display_name": "Python 3"
    },
    "language_info": {
      "name": "python"
    },
    "accelerator": "GPU",
    "gpuClass": "standard"
  },
  "cells": [
    {
      "cell_type": "markdown",
      "metadata": {
        "id": "view-in-github",
        "colab_type": "text"
      },
      "source": [
        "<a href=\"https://colab.research.google.com/github/Nhathuyy/Fake-News-Covid/blob/main/FakeNew.ipynb\" target=\"_parent\"><img src=\"https://colab.research.google.com/assets/colab-badge.svg\" alt=\"Open In Colab\"/></a>"
      ]
    },
    {
      "cell_type": "markdown",
      "source": [
        "## Dự báo tin tức giả mạo"
      ],
      "metadata": {
        "id": "IxIcOpx0zBzU"
      }
    },
    {
      "cell_type": "code",
      "execution_count": null,
      "metadata": {
        "colab": {
          "base_uri": "https://localhost:8080/"
        },
        "id": "WKDjiR_7yHAY",
        "outputId": "2246d01d-afdc-4aca-980f-4e899dbadad8"
      },
      "outputs": [
        {
          "output_type": "stream",
          "name": "stdout",
          "text": [
            "Drive already mounted at /content/drive; to attempt to forcibly remount, call drive.mount(\"/content/drive\", force_remount=True).\n"
          ]
        }
      ],
      "source": [
        "from google.colab import drive\n",
        "drive.mount('/content/drive')"
      ]
    },
    {
      "cell_type": "markdown",
      "source": [
        "# B1 Cài đặt thư viện"
      ],
      "metadata": {
        "id": "B1mo56Aly_Dz"
      }
    },
    {
      "cell_type": "code",
      "source": [
        "import tensorflow as tf\n",
        "tf.__version__\n",
        "!sudo pip3 install keras\n",
        "\n",
        "from tensorflow.python.keras.engine.sequential import Sequential\n",
        "\n",
        "from tensorflow.python.keras.layers import Dense, Conv2D, Flatten, Dropout, MaxPooling2D\n",
        "\n",
        "image_data_generator = tf.keras.preprocessing.image.ImageDataGenerator()"
      ],
      "metadata": {
        "colab": {
          "base_uri": "https://localhost:8080/"
        },
        "id": "jsGpiKV26_jb",
        "outputId": "7d346f98-2e5d-4422-a60d-3f2376e3eaa0"
      },
      "execution_count": null,
      "outputs": [
        {
          "output_type": "stream",
          "name": "stdout",
          "text": [
            "Looking in indexes: https://pypi.org/simple, https://us-python.pkg.dev/colab-wheels/public/simple/\n",
            "Requirement already satisfied: keras in /usr/local/lib/python3.7/dist-packages (2.8.0)\n"
          ]
        }
      ]
    },
    {
      "cell_type": "code",
      "source": [
        "import pandas as pd\n",
        "import numpy as np\n",
        "import re \n",
        "import nltk\n",
        "import sklearn\n",
        "from nltk.corpus import stopwords \n",
        "from nltk.stem.porter import PorterStemmer\n",
        "from sklearn.preprocessing import LabelEncoder\n",
        "from sklearn.model_selection import train_test_split\n",
        "from sklearn.feature_extraction.text import CountVectorizer\n",
        "import matplotlib.pyplot as plt\n",
        "import seaborn"
      ],
      "metadata": {
        "id": "JFOro6oay73a"
      },
      "execution_count": null,
      "outputs": []
    },
    {
      "cell_type": "code",
      "source": [
        "#Download the corpus of stopwords from NLTK (Natural Language Toolkit)\n",
        "nltk.download(\"stopwords\") \n",
        "#Instantiate ProterStemmer()\n",
        "ps = PorterStemmer()"
      ],
      "metadata": {
        "colab": {
          "base_uri": "https://localhost:8080/"
        },
        "id": "gvnoTDlv599j",
        "outputId": "634ab484-de53-454d-e8e4-c29431a36f31"
      },
      "execution_count": null,
      "outputs": [
        {
          "output_type": "stream",
          "name": "stderr",
          "text": [
            "[nltk_data] Downloading package stopwords to /root/nltk_data...\n",
            "[nltk_data]   Package stopwords is already up-to-date!\n"
          ]
        }
      ]
    },
    {
      "cell_type": "markdown",
      "source": [
        "# B2 Đọc file dữ liệu"
      ],
      "metadata": {
        "id": "0jrkezyD7ouN"
      }
    },
    {
      "cell_type": "code",
      "source": [
        "dataset = pd.read_csv(\"/content/fake-news-dataset.csv\")"
      ],
      "metadata": {
        "id": "Vwb-YxV5zOCH"
      },
      "execution_count": null,
      "outputs": []
    },
    {
      "cell_type": "code",
      "source": [
        "dataset"
      ],
      "metadata": {
        "colab": {
          "base_uri": "https://localhost:8080/",
          "height": 424
        },
        "id": "lyOZolz8-phK",
        "outputId": "776169ae-d7a0-4960-dc4e-67087e3a29be"
      },
      "execution_count": null,
      "outputs": [
        {
          "output_type": "execute_result",
          "data": {
            "text/plain": [
              "        id                                              tweet label\n",
              "0        1  The CDC currently reports 99031 deaths. In gen...  real\n",
              "1        2  States reported 1121 deaths a small rise from ...  real\n",
              "2        3  Politically Correct Woman (Almost) Uses Pandem...  fake\n",
              "3        4  #IndiaFightsCorona: We have 1524 #COVID testin...  real\n",
              "4        5  Populous states can generate large case counts...  real\n",
              "...    ...                                                ...   ...\n",
              "6415  6416  A tiger tested positive for COVID-19 please st...  fake\n",
              "6416  6417  ???Autopsies prove that COVID-19 is??� a blood...  fake\n",
              "6417  6418  _A post claims a COVID-19 vaccine has already ...  fake\n",
              "6418  6419  Aamir Khan Donate 250 Cr. In PM Relief Cares Fund  fake\n",
              "6419  6420  It has been 93 days since the last case of COV...  real\n",
              "\n",
              "[6420 rows x 3 columns]"
            ],
            "text/html": [
              "\n",
              "  <div id=\"df-2bdc51df-b3db-4ba6-ac17-2345939ab74b\">\n",
              "    <div class=\"colab-df-container\">\n",
              "      <div>\n",
              "<style scoped>\n",
              "    .dataframe tbody tr th:only-of-type {\n",
              "        vertical-align: middle;\n",
              "    }\n",
              "\n",
              "    .dataframe tbody tr th {\n",
              "        vertical-align: top;\n",
              "    }\n",
              "\n",
              "    .dataframe thead th {\n",
              "        text-align: right;\n",
              "    }\n",
              "</style>\n",
              "<table border=\"1\" class=\"dataframe\">\n",
              "  <thead>\n",
              "    <tr style=\"text-align: right;\">\n",
              "      <th></th>\n",
              "      <th>id</th>\n",
              "      <th>tweet</th>\n",
              "      <th>label</th>\n",
              "    </tr>\n",
              "  </thead>\n",
              "  <tbody>\n",
              "    <tr>\n",
              "      <th>0</th>\n",
              "      <td>1</td>\n",
              "      <td>The CDC currently reports 99031 deaths. In gen...</td>\n",
              "      <td>real</td>\n",
              "    </tr>\n",
              "    <tr>\n",
              "      <th>1</th>\n",
              "      <td>2</td>\n",
              "      <td>States reported 1121 deaths a small rise from ...</td>\n",
              "      <td>real</td>\n",
              "    </tr>\n",
              "    <tr>\n",
              "      <th>2</th>\n",
              "      <td>3</td>\n",
              "      <td>Politically Correct Woman (Almost) Uses Pandem...</td>\n",
              "      <td>fake</td>\n",
              "    </tr>\n",
              "    <tr>\n",
              "      <th>3</th>\n",
              "      <td>4</td>\n",
              "      <td>#IndiaFightsCorona: We have 1524 #COVID testin...</td>\n",
              "      <td>real</td>\n",
              "    </tr>\n",
              "    <tr>\n",
              "      <th>4</th>\n",
              "      <td>5</td>\n",
              "      <td>Populous states can generate large case counts...</td>\n",
              "      <td>real</td>\n",
              "    </tr>\n",
              "    <tr>\n",
              "      <th>...</th>\n",
              "      <td>...</td>\n",
              "      <td>...</td>\n",
              "      <td>...</td>\n",
              "    </tr>\n",
              "    <tr>\n",
              "      <th>6415</th>\n",
              "      <td>6416</td>\n",
              "      <td>A tiger tested positive for COVID-19 please st...</td>\n",
              "      <td>fake</td>\n",
              "    </tr>\n",
              "    <tr>\n",
              "      <th>6416</th>\n",
              "      <td>6417</td>\n",
              "      <td>???Autopsies prove that COVID-19 is??� a blood...</td>\n",
              "      <td>fake</td>\n",
              "    </tr>\n",
              "    <tr>\n",
              "      <th>6417</th>\n",
              "      <td>6418</td>\n",
              "      <td>_A post claims a COVID-19 vaccine has already ...</td>\n",
              "      <td>fake</td>\n",
              "    </tr>\n",
              "    <tr>\n",
              "      <th>6418</th>\n",
              "      <td>6419</td>\n",
              "      <td>Aamir Khan Donate 250 Cr. In PM Relief Cares Fund</td>\n",
              "      <td>fake</td>\n",
              "    </tr>\n",
              "    <tr>\n",
              "      <th>6419</th>\n",
              "      <td>6420</td>\n",
              "      <td>It has been 93 days since the last case of COV...</td>\n",
              "      <td>real</td>\n",
              "    </tr>\n",
              "  </tbody>\n",
              "</table>\n",
              "<p>6420 rows × 3 columns</p>\n",
              "</div>\n",
              "      <button class=\"colab-df-convert\" onclick=\"convertToInteractive('df-2bdc51df-b3db-4ba6-ac17-2345939ab74b')\"\n",
              "              title=\"Convert this dataframe to an interactive table.\"\n",
              "              style=\"display:none;\">\n",
              "        \n",
              "  <svg xmlns=\"http://www.w3.org/2000/svg\" height=\"24px\"viewBox=\"0 0 24 24\"\n",
              "       width=\"24px\">\n",
              "    <path d=\"M0 0h24v24H0V0z\" fill=\"none\"/>\n",
              "    <path d=\"M18.56 5.44l.94 2.06.94-2.06 2.06-.94-2.06-.94-.94-2.06-.94 2.06-2.06.94zm-11 1L8.5 8.5l.94-2.06 2.06-.94-2.06-.94L8.5 2.5l-.94 2.06-2.06.94zm10 10l.94 2.06.94-2.06 2.06-.94-2.06-.94-.94-2.06-.94 2.06-2.06.94z\"/><path d=\"M17.41 7.96l-1.37-1.37c-.4-.4-.92-.59-1.43-.59-.52 0-1.04.2-1.43.59L10.3 9.45l-7.72 7.72c-.78.78-.78 2.05 0 2.83L4 21.41c.39.39.9.59 1.41.59.51 0 1.02-.2 1.41-.59l7.78-7.78 2.81-2.81c.8-.78.8-2.07 0-2.86zM5.41 20L4 18.59l7.72-7.72 1.47 1.35L5.41 20z\"/>\n",
              "  </svg>\n",
              "      </button>\n",
              "      \n",
              "  <style>\n",
              "    .colab-df-container {\n",
              "      display:flex;\n",
              "      flex-wrap:wrap;\n",
              "      gap: 12px;\n",
              "    }\n",
              "\n",
              "    .colab-df-convert {\n",
              "      background-color: #E8F0FE;\n",
              "      border: none;\n",
              "      border-radius: 50%;\n",
              "      cursor: pointer;\n",
              "      display: none;\n",
              "      fill: #1967D2;\n",
              "      height: 32px;\n",
              "      padding: 0 0 0 0;\n",
              "      width: 32px;\n",
              "    }\n",
              "\n",
              "    .colab-df-convert:hover {\n",
              "      background-color: #E2EBFA;\n",
              "      box-shadow: 0px 1px 2px rgba(60, 64, 67, 0.3), 0px 1px 3px 1px rgba(60, 64, 67, 0.15);\n",
              "      fill: #174EA6;\n",
              "    }\n",
              "\n",
              "    [theme=dark] .colab-df-convert {\n",
              "      background-color: #3B4455;\n",
              "      fill: #D2E3FC;\n",
              "    }\n",
              "\n",
              "    [theme=dark] .colab-df-convert:hover {\n",
              "      background-color: #434B5C;\n",
              "      box-shadow: 0px 1px 3px 1px rgba(0, 0, 0, 0.15);\n",
              "      filter: drop-shadow(0px 1px 2px rgba(0, 0, 0, 0.3));\n",
              "      fill: #FFFFFF;\n",
              "    }\n",
              "  </style>\n",
              "\n",
              "      <script>\n",
              "        const buttonEl =\n",
              "          document.querySelector('#df-2bdc51df-b3db-4ba6-ac17-2345939ab74b button.colab-df-convert');\n",
              "        buttonEl.style.display =\n",
              "          google.colab.kernel.accessAllowed ? 'block' : 'none';\n",
              "\n",
              "        async function convertToInteractive(key) {\n",
              "          const element = document.querySelector('#df-2bdc51df-b3db-4ba6-ac17-2345939ab74b');\n",
              "          const dataTable =\n",
              "            await google.colab.kernel.invokeFunction('convertToInteractive',\n",
              "                                                     [key], {});\n",
              "          if (!dataTable) return;\n",
              "\n",
              "          const docLinkHtml = 'Like what you see? Visit the ' +\n",
              "            '<a target=\"_blank\" href=https://colab.research.google.com/notebooks/data_table.ipynb>data table notebook</a>'\n",
              "            + ' to learn more about interactive tables.';\n",
              "          element.innerHTML = '';\n",
              "          dataTable['output_type'] = 'display_data';\n",
              "          await google.colab.output.renderOutput(dataTable, element);\n",
              "          const docLink = document.createElement('div');\n",
              "          docLink.innerHTML = docLinkHtml;\n",
              "          element.appendChild(docLink);\n",
              "        }\n",
              "      </script>\n",
              "    </div>\n",
              "  </div>\n",
              "  "
            ]
          },
          "metadata": {},
          "execution_count": 80
        }
      ]
    },
    {
      "cell_type": "markdown",
      "source": [
        "# B3 Xử lý dữ liệu"
      ],
      "metadata": {
        "id": "PUd78MPaH_XM"
      }
    },
    {
      "cell_type": "code",
      "source": [
        "dataset.shape"
      ],
      "metadata": {
        "colab": {
          "base_uri": "https://localhost:8080/"
        },
        "id": "Oe1XtQ3UHzve",
        "outputId": "9cd5b8f7-1b1a-4ca9-a61f-ddad8370f74f"
      },
      "execution_count": null,
      "outputs": [
        {
          "output_type": "execute_result",
          "data": {
            "text/plain": [
              "(6420, 3)"
            ]
          },
          "metadata": {},
          "execution_count": 81
        }
      ]
    },
    {
      "cell_type": "markdown",
      "source": [
        "Kiểm tra các giá trị bị thiếu (NaN)"
      ],
      "metadata": {
        "id": "mTkggAgmJXQY"
      }
    },
    {
      "cell_type": "code",
      "source": [
        "dataset = dataset.dropna(how='any',axis=0)"
      ],
      "metadata": {
        "id": "HhLUa_lIJYA0"
      },
      "execution_count": null,
      "outputs": []
    },
    {
      "cell_type": "code",
      "source": [
        "\n",
        "dataset.isnull().sum()"
      ],
      "metadata": {
        "colab": {
          "base_uri": "https://localhost:8080/"
        },
        "id": "Jsu9iNU-JbpH",
        "outputId": "f5195a80-6a99-42a4-f56b-936b3aeaa08d"
      },
      "execution_count": null,
      "outputs": [
        {
          "output_type": "execute_result",
          "data": {
            "text/plain": [
              "id       0\n",
              "tweet    0\n",
              "label    0\n",
              "dtype: int64"
            ]
          },
          "metadata": {},
          "execution_count": 15
        }
      ]
    },
    {
      "cell_type": "markdown",
      "source": [
        "Tiền xử lý dữ liệu"
      ],
      "metadata": {
        "id": "aJ5bsDe_Ji_K"
      }
    },
    {
      "cell_type": "markdown",
      "source": [
        "Sử dụng Biểu thức chính quy, xóa tất cả dữ liệu phi văn bản bao gồm các biểu tượng, ký tự đặc biệt, biểu tượng cảm xúc và số. Chuẩn hóa trường hợp bằng cách chuyển đổi tất cả thành chữ thường. Chia các câu thành các từ, giảm các từ xuống gốc của chúng và loại bỏ bất kỳ từ dừng nào. Nối các từ đã tách với một khoảng trắng để tạo thành một câu đơn giản, sạch sẽ."
      ],
      "metadata": {
        "id": "4lCq_H0WJmY2"
      }
    },
    {
      "cell_type": "code",
      "source": [
        "def preprocess_column(col_name, col_length):\n",
        "  preprocessed_data = []\n",
        "  for i in range(0,col_length):\n",
        "        col_value = dataset[col_name][i]\n",
        "        col_value = re.sub('[^a-zA-Z]', ' ', col_value)\n",
        "        col_value = col_value.lower()\n",
        "        col_value = col_value.split()\n",
        "        col_value = [ps.stem(word) for word in col_value if not word in set(stopwords.words('english'))]\n",
        "        col_value = ' '.join(col_value)\n",
        "        preprocessed_data.append(col_value)\n",
        "  return preprocessed_data"
      ],
      "metadata": {
        "id": "sHktVRwgJtyj"
      },
      "execution_count": null,
      "outputs": []
    },
    {
      "cell_type": "code",
      "source": [
        "#Gọi hàm cho cột \"tweet\"\n",
        "preprocessed_train = preprocess_column(\"tweet\",6420)"
      ],
      "metadata": {
        "id": "VpwjfOSPJ9M-"
      },
      "execution_count": null,
      "outputs": []
    },
    {
      "cell_type": "markdown",
      "source": [
        " Xử lý các giá trị phân loại- Mã hóa nhãn"
      ],
      "metadata": {
        "id": "G4AhusSsKTUW"
      }
    },
    {
      "cell_type": "markdown",
      "source": [
        "Thay thế các danh mục trong cột phụ thuộc (y) bằng các giá trị số để xử lý dễ dàng hơn ở dạng máy có thể đọc được. Ở đây, chúng ta có \"Thật\" và \"Giả\" sẽ được gán giá trị tương ứng là \"1\" và \"0\" (theo thứ tự bảng chữ cái)"
      ],
      "metadata": {
        "id": "89PcfFyXKfqb"
      }
    },
    {
      "cell_type": "code",
      "source": [
        "le=LabelEncoder()\n",
        "dataset['label']=le.fit_transform(dataset['label'])"
      ],
      "metadata": {
        "id": "3sVDmhEhKUbL"
      },
      "execution_count": null,
      "outputs": []
    },
    {
      "cell_type": "markdown",
      "source": [
        "# Bộ đếm số"
      ],
      "metadata": {
        "id": "Ushl2dVxKxAD"
      }
    },
    {
      "cell_type": "markdown",
      "source": [
        "# B4 Cách hoạt động của bộ đếm số"
      ],
      "metadata": {
        "id": "WiW9DeclOKpf"
      }
    },
    {
      "cell_type": "markdown",
      "source": [
        "Chuyển đổi một tập hợp các tài liệu văn bản thành một biểu diễn ma trận thưa thớt của số lượng mã thông báo. Hoặc, khá đơn giản, nó được sử dụng để chuyển một văn bản nhất định thành một vectơ trên cơ sở tần suất (số lượng) của mỗi từ xuất hiện trong toàn bộ văn bản"
      ],
      "metadata": {
        "id": "uDt_9z_EUMXl"
      }
    },
    {
      "cell_type": "code",
      "source": [
        "\n",
        "cv = CountVectorizer(max_features = 2000)\n",
        "x = cv.fit_transform(preprocessed_train).toarray() #preprocessed tweets in the form of a sparse matrix"
      ],
      "metadata": {
        "id": "5ENFguLRUobA"
      },
      "execution_count": null,
      "outputs": []
    },
    {
      "cell_type": "code",
      "source": [
        "#Define the dependent variable (prediction column)\n",
        "y = dataset.iloc[:,2:3].values"
      ],
      "metadata": {
        "id": "fTGA1RzsUr46"
      },
      "execution_count": null,
      "outputs": []
    },
    {
      "cell_type": "markdown",
      "source": [
        "# B5 Split the dataset into Train and Test sets\n",
        "chia tỷ lệ 20:80 "
      ],
      "metadata": {
        "id": "n58d1AgAXs7_"
      }
    },
    {
      "cell_type": "code",
      "source": [
        "x_train,x_test,y_train,y_test = train_test_split(x,y,test_size = 0.2, random_state = 0)"
      ],
      "metadata": {
        "id": "CZ3Y0hLOYAM5"
      },
      "execution_count": null,
      "outputs": []
    },
    {
      "cell_type": "code",
      "source": [
        "print(x_train.shape)\n",
        "print(y_train.shape)\n",
        "print(x_test.shape)\n",
        "print(y_test.shape)"
      ],
      "metadata": {
        "colab": {
          "base_uri": "https://localhost:8080/"
        },
        "id": "TRYdZ9feX7-B",
        "outputId": "c78fa7cf-1a6f-4c6a-a3a5-cd9ef982e6d8"
      },
      "execution_count": null,
      "outputs": [
        {
          "output_type": "stream",
          "name": "stdout",
          "text": [
            "(5136, 2000)\n",
            "(5136, 1)\n",
            "(1284, 2000)\n",
            "(1284, 1)\n"
          ]
        }
      ]
    },
    {
      "cell_type": "markdown",
      "source": [
        "# Hồi quy logistic"
      ],
      "metadata": {
        "id": "VP_knHz1YPFB"
      }
    },
    {
      "cell_type": "markdown",
      "source": [
        "Nó là một thuật toán phân loại trong học máy sử dụng một hoặc nhiều biến độc lập để xác định kết quả. Kết quả được đo bằng một biến phân đôi có nghĩa là nó sẽ chỉ có hai kết quả có thể xảy ra. Ví dụ, nó có thể được sử dụng để xác định xem một email có phải là thư rác hay không, bằng cách sử dụng tỷ lệ từ sai chính tả, một dấu hiệu phổ biến của thư rác.\n"
      ],
      "metadata": {
        "id": "JYkY-RgPYPVy"
      }
    },
    {
      "cell_type": "code",
      "source": [
        "from sklearn.linear_model import LogisticRegression\n",
        "lr=LogisticRegression()\n",
        "lr.fit(x_train,y_train)\n",
        "lr_ypred=lr.predict(x_test)\n",
        "lr_acc = sklearn.metrics.accuracy_score(lr_ypred,y_test)\n",
        "print(\"Logistic Regression Accuracy: \")\n",
        "print(lr_acc*100,\"%\")"
      ],
      "metadata": {
        "colab": {
          "base_uri": "https://localhost:8080/"
        },
        "id": "A3MVFMFUfEi8",
        "outputId": "6d408d24-5f6b-4c09-f282-3c5d2e615be7"
      },
      "execution_count": null,
      "outputs": [
        {
          "output_type": "stream",
          "name": "stderr",
          "text": [
            "/usr/local/lib/python3.7/dist-packages/sklearn/utils/validation.py:993: DataConversionWarning: A column-vector y was passed when a 1d array was expected. Please change the shape of y to (n_samples, ), for example using ravel().\n",
            "  y = column_or_1d(y, warn=True)\n"
          ]
        },
        {
          "output_type": "stream",
          "name": "stdout",
          "text": [
            "Logistic Regression Accuracy: \n",
            "92.7570093457944 %\n"
          ]
        }
      ]
    },
    {
      "cell_type": "code",
      "source": [
        "# pr= lr.predict(cv.transform([text_cleaner(headline2)]))\n",
        "# if pr>0.5:\n",
        "#   print(\"Real\")\n",
        "# else:\n",
        "#   print(\"Fake!\")"
      ],
      "metadata": {
        "id": "OYV0KC4_fLWX"
      },
      "execution_count": null,
      "outputs": []
    },
    {
      "cell_type": "markdown",
      "source": [
        "# Naive Bayes Classifier"
      ],
      "metadata": {
        "id": "RV817gHpfUrw"
      }
    },
    {
      "cell_type": "markdown",
      "source": [
        "Thuật toán Naive Bayes dựa trên định lý Bayes với giả định về sự độc lập giữa mọi cặp đặc trưng. Nó giả định rằng sự hiện diện của một đối tượng cụ thể trong một lớp không liên quan đến sự hiện diện của bất kỳ đối tượng địa lý nào khác. Ngay cả khi các tính năng phụ thuộc vào nhau, tất cả các đặc tính này đều đóng góp vào xác suất một cách độc lập.\n"
      ],
      "metadata": {
        "id": "p-RzvSxmfYUD"
      }
    },
    {
      "cell_type": "code",
      "source": [
        "from sklearn.naive_bayes import GaussianNB\n",
        "nb=GaussianNB()\n",
        "nb.fit(x_train,y_train)\n",
        "nb_ypred=nb.predict(x_test)\n",
        "nb_acc = sklearn.metrics.accuracy_score(nb_ypred,y_test)\n",
        "print(\"Naive Bayes Accuracy: \")\n",
        "print(nb_acc*100,\"%\")"
      ],
      "metadata": {
        "colab": {
          "base_uri": "https://localhost:8080/"
        },
        "id": "LD20ywvofqbt",
        "outputId": "33b5e53a-776b-45af-e437-3f602ca5ed8f"
      },
      "execution_count": null,
      "outputs": [
        {
          "output_type": "stream",
          "name": "stderr",
          "text": [
            "/usr/local/lib/python3.7/dist-packages/sklearn/utils/validation.py:993: DataConversionWarning: A column-vector y was passed when a 1d array was expected. Please change the shape of y to (n_samples, ), for example using ravel().\n",
            "  y = column_or_1d(y, warn=True)\n"
          ]
        },
        {
          "output_type": "stream",
          "name": "stdout",
          "text": [
            "Naive Bayes Accuracy: \n",
            "87.14953271028037 %\n"
          ]
        }
      ]
    },
    {
      "cell_type": "markdown",
      "source": [
        "# Stochastic Gradient Descent\n",
        "lặp đi lặp lại để tối ưu hóa một hàm mục tiêu với các đặc tính độ mịn phù hợp. Nó có thể được coi là xấp xỉ ngẫu nhiên của tối ưu hóa giảm dần gradient, vì nó thay thế gradient thực tế bằng một ước tính của nó."
      ],
      "metadata": {
        "id": "ZgiW9aT1f--C"
      }
    },
    {
      "cell_type": "code",
      "source": [
        "from sklearn.linear_model import SGDClassifier\n",
        "sgd=SGDClassifier(loss='modified_huber',shuffle=True, random_state=15)\n",
        "sgd.fit(x_train,y_train)\n",
        "sgd_ypred=sgd.predict(x_test)\n",
        "sgd_acc = sklearn.metrics.accuracy_score(sgd_ypred,y_test)\n",
        "print(\"Stochastic Gradient Descent Accuracy: \")\n",
        "print(sgd_acc*100,\"%\")"
      ],
      "metadata": {
        "colab": {
          "base_uri": "https://localhost:8080/"
        },
        "id": "ugjFgGZvf1W7",
        "outputId": "c703f268-03da-40c1-86b1-825d42e5919d"
      },
      "execution_count": null,
      "outputs": [
        {
          "output_type": "stream",
          "name": "stderr",
          "text": [
            "/usr/local/lib/python3.7/dist-packages/sklearn/utils/validation.py:993: DataConversionWarning: A column-vector y was passed when a 1d array was expected. Please change the shape of y to (n_samples, ), for example using ravel().\n",
            "  y = column_or_1d(y, warn=True)\n"
          ]
        },
        {
          "output_type": "stream",
          "name": "stdout",
          "text": [
            "Stochastic Gradient Descent Accuracy: \n",
            "91.04361370716511 %\n"
          ]
        }
      ]
    },
    {
      "cell_type": "markdown",
      "source": [
        "# K-Nearest Neighbour\n",
        "Phân loại dựa trên Nearest-Neighbor là một kiểu lười học vì nó không cố gắng xây dựng một mô hình nội bộ chung mà chỉ lưu trữ các phiên bản của dữ liệu đào tạo. Phân loại được tính toán từ đa số phiếu đơn giản của 'k' các láng giềng gần nhất của mỗi điểm.\n"
      ],
      "metadata": {
        "id": "W29-7MasgQgd"
      }
    },
    {
      "cell_type": "code",
      "source": [
        "from sklearn.neighbors import KNeighborsClassifier\n",
        "knn=KNeighborsClassifier(n_neighbors=3)\n",
        "knn.fit(x_train,y_train)\n",
        "knn_ypred=knn.predict(x_test)\n",
        "knn_acc = sklearn.metrics.accuracy_score(knn_ypred,y_test)\n",
        "print(\"K-Nearest Neighbour Accuracy: \")\n",
        "print(knn_acc*100,\"%\")"
      ],
      "metadata": {
        "colab": {
          "base_uri": "https://localhost:8080/"
        },
        "id": "kjL8bWF8gAin",
        "outputId": "7a952469-038c-44bd-cce3-e9825dbc9546"
      },
      "execution_count": null,
      "outputs": [
        {
          "output_type": "stream",
          "name": "stderr",
          "text": [
            "/usr/local/lib/python3.7/dist-packages/sklearn/neighbors/_classification.py:198: DataConversionWarning: A column-vector y was passed when a 1d array was expected. Please change the shape of y to (n_samples,), for example using ravel().\n",
            "  return self._fit(X, y)\n"
          ]
        },
        {
          "output_type": "stream",
          "name": "stdout",
          "text": [
            "K-Nearest Neighbour Accuracy: \n",
            "77.80373831775701 %\n"
          ]
        }
      ]
    },
    {
      "cell_type": "markdown",
      "source": [
        "# Decision Tree\n",
        "Cây Quyết định xây dựng các mô hình dưới dạng cấu trúc cây. Nó phân loại dữ liệu thành các loại tốt hơn và mịn hơn: từ thân cây đến cành cho đến lá. Nó sử dụng quy tắc nếu-thì của toán học để tạo các danh mục con phù hợp với các danh mục rộng hơn và cho phép phân loại chính xác, hữu cơ."
      ],
      "metadata": {
        "id": "USDNlnbZh7ko"
      }
    },
    {
      "cell_type": "code",
      "source": [
        "from sklearn.tree import DecisionTreeClassifier\n",
        "#Note: tweak values for max acc\n",
        "dtree=DecisionTreeClassifier(max_depth=40,random_state=18,max_features=None, min_samples_leaf=8)\n",
        "dtree.fit(x_train,y_train)\n",
        "dtree_ypred=dtree.predict(x_test)\n",
        "dtree_acc = sklearn.metrics.accuracy_score(dtree_ypred,y_test)\n",
        "print(\"Decision Tree Accuracy: \")\n",
        "print(dtree_acc*100,\"%\")"
      ],
      "metadata": {
        "id": "jvrpjGNsiDId",
        "colab": {
          "base_uri": "https://localhost:8080/"
        },
        "outputId": "9a9a470f-3008-4087-ee00-343171ad4e5a"
      },
      "execution_count": null,
      "outputs": [
        {
          "output_type": "stream",
          "name": "stdout",
          "text": [
            "Decision Tree Accuracy: \n",
            "87.53894080996885 %\n"
          ]
        }
      ]
    },
    {
      "cell_type": "markdown",
      "source": [
        "# Random Forest\n",
        "Cây quyết định ngẫu nhiên hoặc rừng ngẫu nhiên là một phương pháp học tập tổng hợp để phân loại, hồi quy, v.v. có nghĩa là một mô hình rừng ngẫu nhiên được tạo thành từ một số lượng lớn các cây quyết định nhỏ, được gọi là bộ ước lượng, mỗi cây đưa ra dự đoán của riêng chúng. Mô hình rừng ngẫu nhiên kết hợp các dự đoán của người ước lượng để đưa ra dự đoán chính xác hơn."
      ],
      "metadata": {
        "id": "X6GARKkziIPh"
      }
    },
    {
      "cell_type": "code",
      "source": [
        "from sklearn.ensemble import RandomForestClassifier\n",
        "rfm=RandomForestClassifier(n_estimators=75,oob_score=True,n_jobs=-1, random_state=20,max_features=None,min_samples_leaf=2)\n",
        "rfm.fit(x_train,y_train)\n",
        "rfm_ypred=rfm.predict(x_test)\n",
        "rfm_acc = sklearn.metrics.accuracy_score(rfm_ypred,y_test)\n",
        "print(\"Random Forest Accuracy: \")\n",
        "print(rfm_acc*100,\"%\")"
      ],
      "metadata": {
        "id": "3FaxhcePh7P-",
        "colab": {
          "base_uri": "https://localhost:8080/"
        },
        "outputId": "c3e3beb9-8cdb-48f5-d267-83199c26136a"
      },
      "execution_count": null,
      "outputs": [
        {
          "output_type": "stream",
          "name": "stderr",
          "text": [
            "/usr/local/lib/python3.7/dist-packages/ipykernel_launcher.py:3: DataConversionWarning: A column-vector y was passed when a 1d array was expected. Please change the shape of y to (n_samples,), for example using ravel().\n",
            "  This is separate from the ipykernel package so we can avoid doing imports until\n"
          ]
        },
        {
          "output_type": "stream",
          "name": "stdout",
          "text": [
            "Random Forest Accuracy: \n",
            "90.57632398753894 %\n"
          ]
        }
      ]
    },
    {
      "cell_type": "markdown",
      "source": [
        "# Support Vector Machine\n",
        "Máy vectơ hỗ trợ là một bộ phân loại biểu thị dữ liệu đào tạo dưới dạng các điểm trong không gian được phân tách thành các loại bằng một khoảng cách càng rộng càng tốt. Các điểm mới sau đó được thêm vào không gian bằng cách dự đoán chúng thuộc loại nào và chúng sẽ thuộc không gian nào."
      ],
      "metadata": {
        "id": "DTTtQB14irev"
      }
    },
    {
      "cell_type": "code",
      "source": [
        "from sklearn.svm import SVC \n",
        "svm=SVC(kernel=\"linear\",C=0.025,random_state=None)\n",
        "svm.fit(x_train,y_train)\n",
        "svm_ypred=svm.predict(x_test)\n",
        "svm_acc = sklearn.metrics.accuracy_score(svm_ypred,y_test)\n",
        "print(\"Support Vector Machine Accuracy: \")\n",
        "print(svm_acc*100,\"%\")"
      ],
      "metadata": {
        "id": "Eft1zJtbjHwX",
        "colab": {
          "base_uri": "https://localhost:8080/"
        },
        "outputId": "a3998a91-77af-423f-a82a-59e7f5ff19e0"
      },
      "execution_count": null,
      "outputs": [
        {
          "output_type": "stream",
          "name": "stderr",
          "text": [
            "/usr/local/lib/python3.7/dist-packages/sklearn/utils/validation.py:993: DataConversionWarning: A column-vector y was passed when a 1d array was expected. Please change the shape of y to (n_samples, ), for example using ravel().\n",
            "  y = column_or_1d(y, warn=True)\n"
          ]
        },
        {
          "output_type": "stream",
          "name": "stdout",
          "text": [
            "Support Vector Machine Accuracy: \n",
            "92.13395638629284 %\n"
          ]
        }
      ]
    },
    {
      "cell_type": "markdown",
      "source": [
        "# Classification ANN\n",
        "Phân loại ANN tìm cách phân loại một quan sát thuộc một lớp rời rạc nào đó như một chức năng của các đầu vào. Các đặc trưng đầu vào (các biến độc lập) có thể là loại phân loại hoặc số, tuy nhiên, chúng tôi yêu cầu một đặc điểm phân loại là biến phụ thuộc."
      ],
      "metadata": {
        "id": "kR3114JyjRRy"
      }
    },
    {
      "cell_type": "code",
      "source": [
        "from sklearn.preprocessing import StandardScaler\n",
        "sc = StandardScaler()\n",
        "X_train = sc.fit_transform(x_train)\n",
        "X_text = sc.transform(x_test)\n",
        "ann = tf.keras.models.Sequential()\n",
        "\n",
        "\n"
      ],
      "metadata": {
        "id": "I0zxy_S4j5fR"
      },
      "execution_count": null,
      "outputs": []
    },
    {
      "cell_type": "code",
      "source": [
        "ann.add(tf.keras.layers.Dense(units=4, activation='relu'))"
      ],
      "metadata": {
        "id": "urcSBTuQoQWI"
      },
      "execution_count": null,
      "outputs": []
    },
    {
      "cell_type": "code",
      "source": [
        "ann.add(tf.keras.layers.Dense(units=4, activation='relu'))"
      ],
      "metadata": {
        "id": "zVC4318BoQ9L"
      },
      "execution_count": null,
      "outputs": []
    },
    {
      "cell_type": "code",
      "source": [
        "ann.add(tf.keras.layers.Dense(units=4, activation='sigmoid'))"
      ],
      "metadata": {
        "id": "PuBlKBlykBdO"
      },
      "execution_count": null,
      "outputs": []
    },
    {
      "cell_type": "code",
      "source": [
        "ann.compile(optimizer = 'adam', loss='binary_crossentropy', metrics= ['accuracy'])"
      ],
      "metadata": {
        "id": "dwOD1LK4oZde"
      },
      "execution_count": null,
      "outputs": []
    },
    {
      "cell_type": "code",
      "source": [
        "ann.compile(optimizer='adam',loss = tf.keras.losses.SparseCategoricalCrossentropy(from_logits=True), metrics=['accuracy'])"
      ],
      "metadata": {
        "id": "VoZRB6DGphmM"
      },
      "execution_count": null,
      "outputs": []
    },
    {
      "cell_type": "code",
      "source": [
        "ann.fit(x_train, y_train, batch_size = 50, epochs =100)\n"
      ],
      "metadata": {
        "id": "dGscGSCko3Jg",
        "colab": {
          "base_uri": "https://localhost:8080/"
        },
        "outputId": "b7b4b78e-bddc-4a47-8060-b9eb65f341b6"
      },
      "execution_count": null,
      "outputs": [
        {
          "output_type": "stream",
          "name": "stdout",
          "text": [
            "Epoch 1/100\n"
          ]
        },
        {
          "output_type": "stream",
          "name": "stderr",
          "text": [
            "/usr/local/lib/python3.7/dist-packages/tensorflow/python/util/dispatch.py:1082: UserWarning: \"`sparse_categorical_crossentropy` received `from_logits=True`, but the `output` argument was produced by a sigmoid or softmax activation and thus does not represent logits. Was this intended?\"\n",
            "  return dispatch_target(*args, **kwargs)\n"
          ]
        },
        {
          "output_type": "stream",
          "name": "stdout",
          "text": [
            "103/103 [==============================] - 1s 3ms/step - loss: 1.0021 - accuracy: 0.5430\n",
            "Epoch 2/100\n",
            "103/103 [==============================] - 0s 3ms/step - loss: 0.5612 - accuracy: 0.8092\n",
            "Epoch 3/100\n",
            "103/103 [==============================] - 0s 3ms/step - loss: 0.2972 - accuracy: 0.9258\n",
            "Epoch 4/100\n",
            "103/103 [==============================] - 0s 3ms/step - loss: 0.1871 - accuracy: 0.9484\n",
            "Epoch 5/100\n",
            "103/103 [==============================] - 0s 3ms/step - loss: 0.1332 - accuracy: 0.9636\n",
            "Epoch 6/100\n",
            "103/103 [==============================] - 0s 3ms/step - loss: 0.1019 - accuracy: 0.9714\n",
            "Epoch 7/100\n",
            "103/103 [==============================] - 0s 3ms/step - loss: 0.0813 - accuracy: 0.9776\n",
            "Epoch 8/100\n",
            "103/103 [==============================] - 0s 3ms/step - loss: 0.0664 - accuracy: 0.9811\n",
            "Epoch 9/100\n",
            "103/103 [==============================] - 0s 3ms/step - loss: 0.0549 - accuracy: 0.9842\n",
            "Epoch 10/100\n",
            "103/103 [==============================] - 0s 2ms/step - loss: 0.0461 - accuracy: 0.9868\n",
            "Epoch 11/100\n",
            "103/103 [==============================] - 0s 3ms/step - loss: 0.0392 - accuracy: 0.9891\n",
            "Epoch 12/100\n",
            "103/103 [==============================] - 0s 3ms/step - loss: 0.0331 - accuracy: 0.9926\n",
            "Epoch 13/100\n",
            "103/103 [==============================] - 0s 3ms/step - loss: 0.0283 - accuracy: 0.9942\n",
            "Epoch 14/100\n",
            "103/103 [==============================] - 0s 2ms/step - loss: 0.0244 - accuracy: 0.9947\n",
            "Epoch 15/100\n",
            "103/103 [==============================] - 0s 3ms/step - loss: 0.0208 - accuracy: 0.9967\n",
            "Epoch 16/100\n",
            "103/103 [==============================] - 0s 3ms/step - loss: 0.0180 - accuracy: 0.9981\n",
            "Epoch 17/100\n",
            "103/103 [==============================] - 0s 3ms/step - loss: 0.0156 - accuracy: 0.9981\n",
            "Epoch 18/100\n",
            "103/103 [==============================] - 0s 3ms/step - loss: 0.0136 - accuracy: 0.9988\n",
            "Epoch 19/100\n",
            "103/103 [==============================] - 0s 3ms/step - loss: 0.0118 - accuracy: 0.9988\n",
            "Epoch 20/100\n",
            "103/103 [==============================] - 0s 3ms/step - loss: 0.0102 - accuracy: 0.9992\n",
            "Epoch 21/100\n",
            "103/103 [==============================] - 0s 2ms/step - loss: 0.0091 - accuracy: 0.9992\n",
            "Epoch 22/100\n",
            "103/103 [==============================] - 0s 3ms/step - loss: 0.0079 - accuracy: 0.9996\n",
            "Epoch 23/100\n",
            "103/103 [==============================] - 0s 3ms/step - loss: 0.0069 - accuracy: 0.9996\n",
            "Epoch 24/100\n",
            "103/103 [==============================] - 0s 3ms/step - loss: 0.0061 - accuracy: 0.9998\n",
            "Epoch 25/100\n",
            "103/103 [==============================] - 0s 2ms/step - loss: 0.0054 - accuracy: 0.9998\n",
            "Epoch 26/100\n",
            "103/103 [==============================] - 0s 3ms/step - loss: 0.0047 - accuracy: 0.9998\n",
            "Epoch 27/100\n",
            "103/103 [==============================] - 0s 3ms/step - loss: 0.0042 - accuracy: 0.9998\n",
            "Epoch 28/100\n",
            "103/103 [==============================] - 0s 3ms/step - loss: 0.0037 - accuracy: 1.0000\n",
            "Epoch 29/100\n",
            "103/103 [==============================] - 0s 3ms/step - loss: 0.0033 - accuracy: 1.0000\n",
            "Epoch 30/100\n",
            "103/103 [==============================] - 0s 3ms/step - loss: 0.0030 - accuracy: 1.0000\n",
            "Epoch 31/100\n",
            "103/103 [==============================] - 0s 3ms/step - loss: 0.0027 - accuracy: 1.0000\n",
            "Epoch 32/100\n",
            "103/103 [==============================] - 0s 2ms/step - loss: 0.0024 - accuracy: 1.0000\n",
            "Epoch 33/100\n",
            "103/103 [==============================] - 0s 3ms/step - loss: 0.0022 - accuracy: 1.0000\n",
            "Epoch 34/100\n",
            "103/103 [==============================] - 0s 3ms/step - loss: 0.0020 - accuracy: 1.0000\n",
            "Epoch 35/100\n",
            "103/103 [==============================] - 0s 3ms/step - loss: 0.0018 - accuracy: 1.0000\n",
            "Epoch 36/100\n",
            "103/103 [==============================] - 0s 2ms/step - loss: 0.0016 - accuracy: 1.0000\n",
            "Epoch 37/100\n",
            "103/103 [==============================] - 0s 3ms/step - loss: 0.0015 - accuracy: 1.0000\n",
            "Epoch 38/100\n",
            "103/103 [==============================] - 0s 3ms/step - loss: 0.0013 - accuracy: 1.0000\n",
            "Epoch 39/100\n",
            "103/103 [==============================] - 0s 2ms/step - loss: 0.0012 - accuracy: 1.0000\n",
            "Epoch 40/100\n",
            "103/103 [==============================] - 0s 2ms/step - loss: 0.0011 - accuracy: 1.0000\n",
            "Epoch 41/100\n",
            "103/103 [==============================] - 0s 3ms/step - loss: 0.0010 - accuracy: 1.0000\n",
            "Epoch 42/100\n",
            "103/103 [==============================] - 0s 3ms/step - loss: 9.2886e-04 - accuracy: 1.0000\n",
            "Epoch 43/100\n",
            "103/103 [==============================] - 0s 3ms/step - loss: 8.5426e-04 - accuracy: 1.0000\n",
            "Epoch 44/100\n",
            "103/103 [==============================] - 0s 3ms/step - loss: 7.9827e-04 - accuracy: 1.0000\n",
            "Epoch 45/100\n",
            "103/103 [==============================] - 0s 3ms/step - loss: 7.2989e-04 - accuracy: 1.0000\n",
            "Epoch 46/100\n",
            "103/103 [==============================] - 0s 3ms/step - loss: 6.7392e-04 - accuracy: 1.0000\n",
            "Epoch 47/100\n",
            "103/103 [==============================] - 0s 2ms/step - loss: 6.1971e-04 - accuracy: 1.0000\n",
            "Epoch 48/100\n",
            "103/103 [==============================] - 0s 3ms/step - loss: 5.7226e-04 - accuracy: 1.0000\n",
            "Epoch 49/100\n",
            "103/103 [==============================] - 0s 3ms/step - loss: 5.3025e-04 - accuracy: 1.0000\n",
            "Epoch 50/100\n",
            "103/103 [==============================] - 0s 3ms/step - loss: 4.9048e-04 - accuracy: 1.0000\n",
            "Epoch 51/100\n",
            "103/103 [==============================] - 0s 3ms/step - loss: 4.5313e-04 - accuracy: 1.0000\n",
            "Epoch 52/100\n",
            "103/103 [==============================] - 0s 3ms/step - loss: 4.1893e-04 - accuracy: 1.0000\n",
            "Epoch 53/100\n",
            "103/103 [==============================] - 0s 3ms/step - loss: 3.9342e-04 - accuracy: 1.0000\n",
            "Epoch 54/100\n",
            "103/103 [==============================] - 0s 3ms/step - loss: 3.6318e-04 - accuracy: 1.0000\n",
            "Epoch 55/100\n",
            "103/103 [==============================] - 0s 3ms/step - loss: 3.3372e-04 - accuracy: 1.0000\n",
            "Epoch 56/100\n",
            "103/103 [==============================] - 0s 2ms/step - loss: 3.1133e-04 - accuracy: 1.0000\n",
            "Epoch 57/100\n",
            "103/103 [==============================] - 0s 3ms/step - loss: 2.8944e-04 - accuracy: 1.0000\n",
            "Epoch 58/100\n",
            "103/103 [==============================] - 0s 2ms/step - loss: 2.7259e-04 - accuracy: 1.0000\n",
            "Epoch 59/100\n",
            "103/103 [==============================] - 0s 3ms/step - loss: 2.5121e-04 - accuracy: 1.0000\n",
            "Epoch 60/100\n",
            "103/103 [==============================] - 0s 2ms/step - loss: 2.3573e-04 - accuracy: 1.0000\n",
            "Epoch 61/100\n",
            "103/103 [==============================] - 0s 3ms/step - loss: 2.1869e-04 - accuracy: 1.0000\n",
            "Epoch 62/100\n",
            "103/103 [==============================] - 0s 3ms/step - loss: 2.0409e-04 - accuracy: 1.0000\n",
            "Epoch 63/100\n",
            "103/103 [==============================] - 0s 3ms/step - loss: 1.9077e-04 - accuracy: 1.0000\n",
            "Epoch 64/100\n",
            "103/103 [==============================] - 0s 3ms/step - loss: 1.7758e-04 - accuracy: 1.0000\n",
            "Epoch 65/100\n",
            "103/103 [==============================] - 0s 3ms/step - loss: 1.6474e-04 - accuracy: 1.0000\n",
            "Epoch 66/100\n",
            "103/103 [==============================] - 0s 3ms/step - loss: 1.5604e-04 - accuracy: 1.0000\n",
            "Epoch 67/100\n",
            "103/103 [==============================] - 0s 3ms/step - loss: 1.4586e-04 - accuracy: 1.0000\n",
            "Epoch 68/100\n",
            "103/103 [==============================] - 0s 3ms/step - loss: 1.3656e-04 - accuracy: 1.0000\n",
            "Epoch 69/100\n",
            "103/103 [==============================] - 0s 3ms/step - loss: 1.2516e-04 - accuracy: 1.0000\n",
            "Epoch 70/100\n",
            "103/103 [==============================] - 0s 3ms/step - loss: 1.1863e-04 - accuracy: 1.0000\n",
            "Epoch 71/100\n",
            "103/103 [==============================] - 0s 3ms/step - loss: 1.0983e-04 - accuracy: 1.0000\n",
            "Epoch 72/100\n",
            "103/103 [==============================] - 0s 3ms/step - loss: 1.0521e-04 - accuracy: 1.0000\n",
            "Epoch 73/100\n",
            "103/103 [==============================] - 0s 3ms/step - loss: 9.6299e-05 - accuracy: 1.0000\n",
            "Epoch 74/100\n",
            "103/103 [==============================] - 0s 3ms/step - loss: 9.0490e-05 - accuracy: 1.0000\n",
            "Epoch 75/100\n",
            "103/103 [==============================] - 0s 3ms/step - loss: 8.5260e-05 - accuracy: 1.0000\n",
            "Epoch 76/100\n",
            "103/103 [==============================] - 0s 2ms/step - loss: 8.0199e-05 - accuracy: 1.0000\n",
            "Epoch 77/100\n",
            "103/103 [==============================] - 0s 3ms/step - loss: 7.4748e-05 - accuracy: 1.0000\n",
            "Epoch 78/100\n",
            "103/103 [==============================] - 0s 3ms/step - loss: 6.9946e-05 - accuracy: 1.0000\n",
            "Epoch 79/100\n",
            "103/103 [==============================] - 0s 3ms/step - loss: 6.6283e-05 - accuracy: 1.0000\n",
            "Epoch 80/100\n",
            "103/103 [==============================] - 0s 3ms/step - loss: 6.1982e-05 - accuracy: 1.0000\n",
            "Epoch 81/100\n",
            "103/103 [==============================] - 0s 3ms/step - loss: 5.8008e-05 - accuracy: 1.0000\n",
            "Epoch 82/100\n",
            "103/103 [==============================] - 0s 3ms/step - loss: 5.3824e-05 - accuracy: 1.0000\n",
            "Epoch 83/100\n",
            "103/103 [==============================] - 0s 3ms/step - loss: 5.1235e-05 - accuracy: 1.0000\n",
            "Epoch 84/100\n",
            "103/103 [==============================] - 0s 3ms/step - loss: 4.7754e-05 - accuracy: 1.0000\n",
            "Epoch 85/100\n",
            "103/103 [==============================] - 0s 3ms/step - loss: 4.5270e-05 - accuracy: 1.0000\n",
            "Epoch 86/100\n",
            "103/103 [==============================] - 0s 3ms/step - loss: 4.2972e-05 - accuracy: 1.0000\n",
            "Epoch 87/100\n",
            "103/103 [==============================] - 0s 3ms/step - loss: 3.9857e-05 - accuracy: 1.0000\n",
            "Epoch 88/100\n",
            "103/103 [==============================] - 0s 3ms/step - loss: 3.7267e-05 - accuracy: 1.0000\n",
            "Epoch 89/100\n",
            "103/103 [==============================] - 0s 3ms/step - loss: 3.4739e-05 - accuracy: 1.0000\n",
            "Epoch 90/100\n",
            "103/103 [==============================] - 0s 4ms/step - loss: 3.2989e-05 - accuracy: 1.0000\n",
            "Epoch 91/100\n",
            "103/103 [==============================] - 0s 4ms/step - loss: 3.1276e-05 - accuracy: 1.0000\n",
            "Epoch 92/100\n",
            "103/103 [==============================] - 0s 4ms/step - loss: 2.9535e-05 - accuracy: 1.0000\n",
            "Epoch 93/100\n",
            "103/103 [==============================] - 0s 4ms/step - loss: 2.7263e-05 - accuracy: 1.0000\n",
            "Epoch 94/100\n",
            "103/103 [==============================] - 0s 4ms/step - loss: 2.5546e-05 - accuracy: 1.0000\n",
            "Epoch 95/100\n",
            "103/103 [==============================] - 0s 4ms/step - loss: 2.4174e-05 - accuracy: 1.0000\n",
            "Epoch 96/100\n",
            "103/103 [==============================] - 0s 3ms/step - loss: 2.3097e-05 - accuracy: 1.0000\n",
            "Epoch 97/100\n",
            "103/103 [==============================] - 0s 4ms/step - loss: 2.1204e-05 - accuracy: 1.0000\n",
            "Epoch 98/100\n",
            "103/103 [==============================] - 0s 5ms/step - loss: 2.0219e-05 - accuracy: 1.0000\n",
            "Epoch 99/100\n",
            "103/103 [==============================] - 0s 4ms/step - loss: 1.8851e-05 - accuracy: 1.0000\n",
            "Epoch 100/100\n",
            "103/103 [==============================] - 0s 4ms/step - loss: 1.7748e-05 - accuracy: 1.0000\n"
          ]
        },
        {
          "output_type": "execute_result",
          "data": {
            "text/plain": [
              "<keras.callbacks.History at 0x7f89952ac8d0>"
            ]
          },
          "metadata": {},
          "execution_count": 127
        }
      ]
    },
    {
      "cell_type": "code",
      "source": [
        "y_test"
      ],
      "metadata": {
        "id": "LhAke5PVqnRY",
        "colab": {
          "base_uri": "https://localhost:8080/"
        },
        "outputId": "207117a6-e03e-416f-ac43-71643eaeaaf2"
      },
      "execution_count": null,
      "outputs": [
        {
          "output_type": "execute_result",
          "data": {
            "text/plain": [
              "array([[0],\n",
              "       [1],\n",
              "       [0],\n",
              "       ...,\n",
              "       [1],\n",
              "       [0],\n",
              "       [1]])"
            ]
          },
          "metadata": {},
          "execution_count": 128
        }
      ]
    },
    {
      "cell_type": "code",
      "source": [
        "y_pred = ann.predict(x_test)\n",
        "y_pred = (y_pred > 0.5)\n",
        "y_pred = y_pred.astype(int)\n"
      ],
      "metadata": {
        "id": "3Rs5-Nh6p2Vj"
      },
      "execution_count": null,
      "outputs": []
    },
    {
      "cell_type": "code",
      "source": [
        "y_pred"
      ],
      "metadata": {
        "colab": {
          "base_uri": "https://localhost:8080/"
        },
        "id": "ukAdbvbYzBth",
        "outputId": "8efc6743-a70a-4d0c-bd29-9a3207a8e2c0"
      },
      "execution_count": null,
      "outputs": [
        {
          "output_type": "execute_result",
          "data": {
            "text/plain": [
              "array([[1, 0, 0, 0],\n",
              "       [0, 1, 0, 0],\n",
              "       [1, 0, 0, 0],\n",
              "       ...,\n",
              "       [0, 1, 0, 0],\n",
              "       [1, 0, 0, 0],\n",
              "       [0, 1, 0, 0]])"
            ]
          },
          "metadata": {},
          "execution_count": 130
        }
      ]
    },
    {
      "cell_type": "code",
      "source": [
        "\n",
        "from sklearn.metrics import confusion_matrix, accuracy_score\n"
      ],
      "metadata": {
        "id": "1o5Mn93zqx0Y"
      },
      "execution_count": null,
      "outputs": []
    },
    {
      "cell_type": "code",
      "source": [
        "dm = confusion_matrix(y_test, np.argmax(y_pred, axis=1))\n"
      ],
      "metadata": {
        "id": "xdZeyAtEakw5"
      },
      "execution_count": null,
      "outputs": []
    },
    {
      "cell_type": "code",
      "source": [
        "print(dm)"
      ],
      "metadata": {
        "id": "V4MjAL4CNyBB",
        "colab": {
          "base_uri": "https://localhost:8080/"
        },
        "outputId": "9eaea346-49c9-4f39-c0cb-af8900a2e1e5"
      },
      "execution_count": null,
      "outputs": [
        {
          "output_type": "stream",
          "name": "stdout",
          "text": [
            "[[574  53]\n",
            " [ 75 582]]\n"
          ]
        }
      ]
    },
    {
      "cell_type": "markdown",
      "source": [
        "kết quả\n",
        "True positive: 574 (thật)\n",
        "\n",
        "True negative: 582 (giả) \n",
        "\n",
        "False-positive: 53 (là tin giả nhưng dự đoán là tin thật)\n",
        "\n",
        "False-negative: 75 (là tin thật nhưng dự đoán là tin giả)"
      ],
      "metadata": {
        "id": "3O9Uzm80zWkp"
      }
    },
    {
      "cell_type": "code",
      "source": [
        "ann_acc = accuracy_score(y_test, y_pred)\n",
        "print(\"Classification ANN Accuracy: \")\n",
        "print(ann_acc*100,\"%\")\n"
      ],
      "metadata": {
        "colab": {
          "base_uri": "https://localhost:8080/"
        },
        "id": "JyDLUTKbdDiD",
        "outputId": "375b41e0-c283-45f4-a143-ce95ae6abf56"
      },
      "execution_count": null,
      "outputs": [
        {
          "output_type": "stream",
          "name": "stdout",
          "text": [
            "Classification ANN Accuracy: \n",
            "48.831775700934585 %\n"
          ]
        }
      ]
    },
    {
      "cell_type": "code",
      "source": [
        "model = Sequential()\n",
        "model.add(Dense(units = 2000, kernel_initializer = \"random_uniform\", activation = \"relu\"))\n",
        "model.add(Dense(units = 4000, kernel_initializer = \"random_uniform\", activation = \"relu\"))\n",
        "model.add(Dense(units = 4000, kernel_initializer = \"random_uniform\", activation = \"relu\"))\n",
        "model.add(Dense(units = 4000, kernel_initializer = \"random_uniform\", activation = \"relu\"))\n",
        "model.add(Dense(units = 4000, kernel_initializer = \"random_uniform\", activation = \"relu\"))\n",
        "model.add(Dense(units = 4000, kernel_initializer = \"random_uniform\", activation = \"relu\"))\n",
        "model.add(Dense(units = 4000, kernel_initializer = \"random_uniform\", activation = \"relu\"))\n",
        "model.add(Dense(units = 1, kernel_initializer = \"random_uniform\", activation = \"sigmoid\"))\n"
      ],
      "metadata": {
        "id": "wtDIdKi9yM7i"
      },
      "execution_count": null,
      "outputs": []
    },
    {
      "cell_type": "code",
      "source": [
        "model.compile(optimizer = \"rmsprop\", loss=\"binary_crossentropy\", metrics= [\"accuracy\"])\n",
        "seq_history= model.fit(x_train,y_train, epochs = 5,verbose=1, steps_per_epoch=50)\n"
      ],
      "metadata": {
        "colab": {
          "base_uri": "https://localhost:8080/"
        },
        "id": "OC2ONfn6yRp0",
        "outputId": "ba92d927-e7a6-4d30-a28d-163d45e981eb"
      },
      "execution_count": null,
      "outputs": [
        {
          "output_type": "stream",
          "name": "stdout",
          "text": [
            "Epoch 1/5\n",
            "50/50 [==============================] - 8s 61ms/step - loss: 278.5877 - accuracy: 0.7755\n",
            "Epoch 2/5\n",
            "50/50 [==============================] - 3s 57ms/step - loss: 0.1389 - accuracy: 0.9574\n",
            "Epoch 3/5\n",
            "50/50 [==============================] - 3s 55ms/step - loss: 0.1516 - accuracy: 0.9511\n",
            "Epoch 4/5\n",
            "50/50 [==============================] - 3s 56ms/step - loss: 0.1018 - accuracy: 0.9772\n",
            "Epoch 5/5\n",
            "50/50 [==============================] - 3s 56ms/step - loss: 0.0216 - accuracy: 0.9940\n"
          ]
        }
      ]
    },
    {
      "cell_type": "code",
      "source": [
        "acc= model.evaluate(x_train, y_train)"
      ],
      "metadata": {
        "colab": {
          "base_uri": "https://localhost:8080/"
        },
        "id": "b6fWY_cGyXk_",
        "outputId": "51565f60-342a-4a60-940e-0b2e0cac0006"
      },
      "execution_count": null,
      "outputs": [
        {
          "output_type": "stream",
          "name": "stdout",
          "text": [
            "161/161 [==============================] - 1s 5ms/step - loss: 0.0406 - accuracy: 0.9940\n"
          ]
        }
      ]
    },
    {
      "cell_type": "code",
      "source": [
        "print(\"Sequential Model Accuracy: \")\n",
        "acc=acc[1]\n",
        "print(acc*100,\"%\")"
      ],
      "metadata": {
        "colab": {
          "base_uri": "https://localhost:8080/"
        },
        "id": "emf4jTaiyZs6",
        "outputId": "5114b0ba-5c96-42f9-c30b-e46d1fa13301"
      },
      "execution_count": null,
      "outputs": [
        {
          "output_type": "stream",
          "name": "stdout",
          "text": [
            "Sequential Model Accuracy: \n",
            "99.39641952514648 %\n"
          ]
        }
      ]
    },
    {
      "cell_type": "code",
      "source": [
        "headline1 = \"Social gatherings of more than six people will be banned across England Wales and Scotland from tomorrow. But what are the new rules what happens if you break them and how do they differ across the nations? ðŸ‘‡\"\n",
        "headline2 = \"Korona virus, very new deadly form of virus, china is suffering, may come to India immediately, avoid any form of cold drinks, ice creams, koolfee, etc, any type of preserved foods, milkshake, rough ice, ice colas, milk sweets older then 48 hours, for atleast 90 days from today.\"\n",
        "headline3 = \"As tuberculosis shaped modernism, so COVID-19 and our collective experience of staying inside for months on end will influence architectureâ€™s near future, @chaykak writes. https://t.co/ag34yZckbU\"\n",
        "headline4 = \"SUBHAN ALLAH: AFTER CORONA VIRUS CHINA GOVT LIFTED BAN ON HOLY QURAN & ALLOWED CHINESE MUSLIMS TO READ THEIR SACRED BOOK! SO WHICH OF THE FAVORS OF YOUR LORD WOULD YOU DENY?\"\n",
        "headline5 = \"#IndiaFightsCorona Following the national trend 17 States/UTs have more new recoveries than new cases. https://t.co/aHWwlaimmb\""
      ],
      "metadata": {
        "id": "IZ5sbcob0YJg"
      },
      "execution_count": null,
      "outputs": []
    },
    {
      "cell_type": "code",
      "source": [
        "#function to clean the input text\n",
        "def text_cleaner(text):\n",
        "  text = re.sub('[^a-zA-Z]', ' ', text) \n",
        "  text = text.lower()\n",
        "  text = text.split() \n",
        "  text = [ps.stem(word) for word in text if not word in set(stopwords.words('english'))]\n",
        "  text = ' '.join(text)\n",
        "  return text"
      ],
      "metadata": {
        "id": "98OlesU637qU"
      },
      "execution_count": null,
      "outputs": []
    },
    {
      "cell_type": "code",
      "source": [
        "#function to predict\n",
        "def predictor(text):\n",
        "  if (ann.predict(cv.transform([text])))>0.5:\n",
        "    print(\"Real\")\n",
        "  else:\n",
        "    print(\"Fake!\")"
      ],
      "metadata": {
        "id": "Ev7zwLPL3-sV"
      },
      "execution_count": null,
      "outputs": []
    },
    {
      "cell_type": "code",
      "source": [
        "accuracies= {\n",
        "             \"SEQ\":acc,\n",
        "             \"ANN\": ann_acc,\n",
        "             \"logreg\": lr_acc, \n",
        "             \"naive\": nb_acc, \n",
        "             \"SGD\": sgd_acc, \n",
        "             \"kNN\": knn_acc, \n",
        "             \"DT\": dtree_acc, \n",
        "             \"RF\": rfm_acc, \n",
        "             \"SVM\": svm_acc\n",
        "             }\n",
        "\n",
        "print(\"Classification models in descending order of accuracy:\")\n",
        "sorted(accuracies.items(), key=lambda x: x[1],reverse=True)"
      ],
      "metadata": {
        "colab": {
          "base_uri": "https://localhost:8080/"
        },
        "id": "q3yHUObF4DYV",
        "outputId": "790fabda-db8c-4562-ece8-96636c37b842"
      },
      "execution_count": null,
      "outputs": [
        {
          "output_type": "stream",
          "name": "stdout",
          "text": [
            "Classification models in descending order of accuracy:\n"
          ]
        },
        {
          "output_type": "execute_result",
          "data": {
            "text/plain": [
              "[('SEQ', 0.9939641952514648),\n",
              " ('logreg', 0.927570093457944),\n",
              " ('SVM', 0.9213395638629284),\n",
              " ('SGD', 0.910436137071651),\n",
              " ('RF', 0.9057632398753894),\n",
              " ('DT', 0.8753894080996885),\n",
              " ('naive', 0.8714953271028038),\n",
              " ('kNN', 0.7780373831775701),\n",
              " ('ANN', 0.4883177570093458)]"
            ]
          },
          "metadata": {},
          "execution_count": 155
        }
      ]
    },
    {
      "cell_type": "code",
      "source": [
        "lists = sorted(accuracies.items(), key=lambda x: x[1]*100,reverse=True) # sorted by key, return a list of tuples\n",
        "\n",
        "x, y = zip(*lists) # unpack a list of pairs into two tuples\n",
        "\n",
        "z = []\n",
        "for i in y:\n",
        "   z.append(i*100)\n",
        "tuple(z)\n",
        "plt.plot(x, z)\n",
        "\n",
        "plt.title('Classfication Models vs Accuracy')\n",
        "plt.xlabel('Classification Models')\n",
        "plt.ylabel('Accuracy %')\n",
        "plt.show()"
      ],
      "metadata": {
        "colab": {
          "base_uri": "https://localhost:8080/",
          "height": 295
        },
        "id": "fQPeb7TuhKml",
        "outputId": "90b22a72-4a24-44d6-f399-fd64cf0100f3"
      },
      "execution_count": null,
      "outputs": [
        {
          "output_type": "display_data",
          "data": {
            "text/plain": [
              "<Figure size 432x288 with 1 Axes>"
            ],
            "image/png": "[encoded data removed]"
          },
          "metadata": {
            "needs_background": "light"
          }
        }
      ]
    },
    {
      "cell_type": "markdown",
      "source": [
        "Vì mô hình này có độ chính xác cao nhất, chúng tôi sẽ sử dụng mô hình này để dự đoán trong quá trình triển khai ứng dụng của mình"
      ],
      "metadata": {
        "id": "EhKbbutJxi8h"
      }
    },
    {
      "cell_type": "code",
      "source": [
        "model.save(\"fake-news.h5\")"
      ],
      "metadata": {
        "id": "P4UklvX3xh3R"
      },
      "execution_count": null,
      "outputs": []
    },
    {
      "cell_type": "code",
      "source": [
        "from sklearn import model_selection\n",
        "from sklearn.preprocessing import StandardScaler\n",
        "from sklearn.model_selection import KFold\n",
        "from sklearn.model_selection import cross_val_score\n",
        "\n",
        "def build_classifier():\n",
        "  model = Sequential()\n",
        "  model.add(Dense(units = 2000, kernel_initializer = \"random_uniform\", activation = \"relu\"))\n",
        "  model.add(Dense(units = 4000, kernel_initializer = \"random_uniform\", activation = \"relu\"))\n",
        "  model.add(Dense(units = 4000, kernel_initializer = \"random_uniform\", activation = \"relu\"))\n",
        "  model.add(Dense(units = 4000, kernel_initializer = \"random_uniform\", activation = \"relu\"))\n",
        "  model.add(Dense(units = 4000, kernel_initializer = \"random_uniform\", activation = \"relu\"))\n",
        "  model.add(Dense(units = 4000, kernel_initializer = \"random_uniform\", activation = \"relu\"))\n",
        "  model.add(Dense(units = 4000, kernel_initializer = \"random_uniform\", activation = \"relu\"))\n",
        "  model.add(Dense(units = 1, kernel_initializer = \"random_uniform\", activation = \"sigmoid\"))\n",
        "  model.compile(optimizer = \"rmsprop\", loss=\"binary_crossentropy\", metrics= [\"accuracy\"])\n",
        "  return model"
      ],
      "metadata": {
        "id": "6n7RAixny6qy"
      },
      "execution_count": null,
      "outputs": []
    },
    {
      "cell_type": "code",
      "source": [
        "kf = KFold(n_splits=8, random_state=15, shuffle=True)\n",
        "val_accuracy_per_fold = []\n",
        "val_loss_per_fold = []\n",
        "\n",
        "for train, test in kf.split(x, y):\n",
        "  sc = StandardScaler()\n",
        "x_train = sc.fit_transform(x_train)\n",
        "x_test = sc.transform(x_test)\n",
        "\n",
        "model=build_classifier()\n",
        "history = model.fit(x_train,y_train, epochs = 20,verbose=1, steps_per_epoch=50, validation_data=(x_test, y_test))\n"
      ],
      "metadata": {
        "id": "b7FIbuhAzCO6"
      },
      "execution_count": null,
      "outputs": []
    },
    {
      "cell_type": "code",
      "source": [
        "val_accuracy_per_fold.append(history.history['val_accuracy'][-1])\n",
        "val_loss_per_fold.append(history.history['val_loss'][-1])"
      ],
      "metadata": {
        "id": "FeHel6UqzIDU"
      },
      "execution_count": null,
      "outputs": []
    },
    {
      "cell_type": "code",
      "source": [
        "plt.subplot(211)\n",
        "plt.plot(history.history['accuracy'])\n",
        "plt.plot(history.history['val_accuracy'])\n",
        "plt.title('Model Accuracy')\n",
        "plt.ylabel('Accuracy')\n",
        "plt.xlabel('Epoch')\n",
        "plt.legend(['Training', 'Validation'], loc='lower right')\n",
        "plt.show()"
      ],
      "metadata": {
        "colab": {
          "base_uri": "https://localhost:8080/",
          "height": 177
        },
        "id": "ZM4ZVublz00o",
        "outputId": "3fb8093f-21fd-4583-821c-94a051ad0681"
      },
      "execution_count": null,
      "outputs": [
        {
          "output_type": "display_data",
          "data": {
            "text/plain": [
              "<Figure size 432x288 with 1 Axes>"
            ],
            "image/png": "[encoded data removed]"
          },
          "metadata": {
            "needs_background": "light"
          }
        }
      ]
    },
    {
      "cell_type": "code",
      "source": [
        "plt.subplot(212)\n",
        "plt.plot(history.history['loss'])\n",
        "plt.plot(history.history['val_loss'])\n",
        "plt.title('Model Loss')\n",
        "plt.ylabel('Loss')\n",
        "plt.xlabel('Epoch')\n",
        "plt.legend(['Training', 'Validation'], loc='upper right')\n",
        "plt.tight_layout()\n",
        "plt.show()"
      ],
      "metadata": {
        "colab": {
          "base_uri": "https://localhost:8080/",
          "height": 182
        },
        "id": "OvpI0zyvz_pV",
        "outputId": "c33410cf-1f1e-44ed-8390-143c5ee401ae"
      },
      "execution_count": null,
      "outputs": [
        {
          "output_type": "display_data",
          "data": {
            "text/plain": [
              "<Figure size 432x288 with 1 Axes>"
            ],
            "image/png": "[encoded data removed]"
          },
          "metadata": {
            "needs_background": "light"
          }
        }
      ]
    },
    {
      "cell_type": "code",
      "source": [
        "headline1 = \"Social gatherings of more than six people will be banned across England Wales and Scotland from tomorrow. But what are the new rules what happens if you break them and how do they differ across the nations? ðŸ‘‡\"\n",
        "headline2 = \"Korona virus, very new deadly form of virus, china is suffering, may come to India immediately, avoid any form of cold drinks, ice creams, koolfee, etc, any type of preserved foods, milkshake, rough ice, ice colas, milk sweets older then 48 hours, for atleast 90 days from today.\"\n",
        "headline3 = \"As tuberculosis shaped modernism, so COVID-19 and our collective experience of staying inside for months on end will influence architectureâ€™s near future, @chaykak writes. https://t.co/ag34yZckbU\"\n",
        "headline4 = \"SUBHAN ALLAH: AFTER CORONA VIRUS CHINA GOVT LIFTED BAN ON HOLY QURAN & ALLOWED CHINESE MUSLIMS TO READ THEIR SACRED BOOK! SO WHICH OF THE FAVORS OF YOUR LORD WOULD YOU DENY?\"\n",
        "headline6 = \"Corona virus from Viet Nam\"\n",
        "headline5 = \"#IndiaFightsCorona Following the national trend 17 States/UTs have more new recoveries than new cases. https://t.co/aHWwlaimmb\""
      ],
      "metadata": {
        "id": "jQvQZA-80EAt"
      },
      "execution_count": null,
      "outputs": []
    },
    {
      "cell_type": "code",
      "source": [
        "!pip install beautifulsoup4\n",
        "!pip install google\n",
        "from googlesearch import search"
      ],
      "metadata": {
        "colab": {
          "base_uri": "https://localhost:8080/"
        },
        "id": "B9W_U7P_0ECE",
        "outputId": "37df3959-e6ce-4ee1-ad0a-b0ebd77b0ad8"
      },
      "execution_count": null,
      "outputs": [
        {
          "output_type": "stream",
          "name": "stdout",
          "text": [
            "Looking in indexes: https://pypi.org/simple, https://us-python.pkg.dev/colab-wheels/public/simple/\n",
            "Requirement already satisfied: beautifulsoup4 in /usr/local/lib/python3.7/dist-packages (4.6.3)\n",
            "Looking in indexes: https://pypi.org/simple, https://us-python.pkg.dev/colab-wheels/public/simple/\n",
            "Requirement already satisfied: google in /usr/local/lib/python3.7/dist-packages (2.0.3)\n",
            "Requirement already satisfied: beautifulsoup4 in /usr/local/lib/python3.7/dist-packages (from google) (4.6.3)\n"
          ]
        }
      ]
    },
    {
      "cell_type": "code",
      "source": [
        "print(\"Here are some resources that could verify our prediction: \")\n",
        "query = headline6 #enter headline here\n",
        "for j in search(query, tld=\"com\", stop=10, pause=1):\n",
        "  print(j)"
      ],
      "metadata": {
        "colab": {
          "base_uri": "https://localhost:8080/"
        },
        "id": "y5fV9K3M0Hf8",
        "outputId": "de1fd550-bd12-4dad-dab4-e1d91405d4df"
      },
      "execution_count": null,
      "outputs": [
        {
          "output_type": "stream",
          "name": "stdout",
          "text": [
            "Here are some resources that could verify our prediction: \n",
            "https://www.vietnam-briefing.com/news/vietnam-business-operations-and-the-coronavirus-updates.html/\n",
            "http://graphics.reuters.com/world-coronavirus-tracker-and-maps/countries-and-territories/vietnam/\n",
            "https://www.worldometers.info/coronavirus/country/viet-nam/\n",
            "https://vietnam.travel/things-to-do/information-travellers-novel-coronavirus-vietnam\n",
            "https://www.mfa.gov.sg/countries-regions/v/viet-nam/travel-page\n",
            "https://covid19.who.int/region/wpro/country/vn\n",
            "https://ourworldindata.org/coronavirus/country/vietnam\n",
            "https://wwwnc.cdc.gov/travel/notices/covid-unknown/coronavirus-vietnam\n",
            "https://www.vietnamairlines.com/sg/en/covid-19\n",
            "https://www.worldbank.org/en/country/vietnam/brief/monitoring-households-and-firms-in-vietnam-during-covid-19\n"
          ]
        }
      ]
    }
  ]
}